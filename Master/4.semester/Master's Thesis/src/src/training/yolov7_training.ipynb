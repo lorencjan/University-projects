{
 "cells": [
  {
   "attachments": {},
   "cell_type": "markdown",
   "metadata": {},
   "source": [
    "Prepare environment"
   ]
  },
  {
   "cell_type": "code",
   "execution_count": null,
   "metadata": {},
   "outputs": [],
   "source": [
    "!python3 -m venv yolov7-env\n",
    "!source yolov7-env/bin/activate"
   ]
  },
  {
   "attachments": {},
   "cell_type": "markdown",
   "metadata": {},
   "source": [
    "Install requirements for the training"
   ]
  },
  {
   "cell_type": "code",
   "execution_count": null,
   "metadata": {},
   "outputs": [],
   "source": [
    "%cd ../yolov7\n",
    "!pip3 install -qr requirements.txt"
   ]
  },
  {
   "attachments": {},
   "cell_type": "markdown",
   "metadata": {},
   "source": [
    "Optionally setup wandb logging"
   ]
  },
  {
   "cell_type": "code",
   "execution_count": null,
   "metadata": {},
   "outputs": [],
   "source": [
    "import wandb\n",
    "\n",
    "try:\n",
    "    wandb_api_key = \"YOUR WANDB API KEY\"  # be careful not to show it publicly\n",
    "\n",
    "    # if training on Kaggle, yout can use kaggle notebook secrets to store the api key\n",
    "    # from kaggle_secrets import UserSecretsClient\n",
    "    # user_secrets = UserSecretsClient()\n",
    "    # wandb_api_key = user_secrets.get_secret(\"wandb_api\")\n",
    "\n",
    "    wandb.login(key=wandb_api_key)\n",
    "    wandb.init(project=\"yolov7\", name=f\"yolov7-training\")\n",
    "except:\n",
    "    !wandb disabled\n",
    "    print(\"Failed to log into wandb\")"
   ]
  },
  {
   "attachments": {},
   "cell_type": "markdown",
   "metadata": {},
   "source": [
    "Start actual training  \n",
    "* `img-size` - [train|test] image sizes ... 640 (or 1280 for bigger models)\n",
    "* `cfg` - model description to train (normal yolov7 or tiny|x or 1280px big models)\n",
    "* `hyp` - model parameters ... keyboards have default and for characters I turned off or modified some augmentations\n",
    "* `data` - yaml file with data information (path, classes)\n",
    "* `name` - name of the run\n",
    "* `weights` - pretrained weights ... leave empty for no finetuning\n",
    "* `batch-size` - leaving default 16 as it works best\n",
    "* `epochs` - number of training epochs ... 30 for keyboards, 50 for characters"
   ]
  },
  {
   "cell_type": "code",
   "execution_count": null,
   "metadata": {},
   "outputs": [],
   "source": [
    "!python3 train.py --img-size 640 640 --cfg cfg/training/yolov7.yaml --hyp data/hyp.scratch.custom.yaml --data data/keyboards-local.yaml --name yolov7-keyboards --weights '' --batch-size 16 --epochs 30\n",
    "# !python3 train.py --img-size 640 640 --cfg cfg/training/yolov7.yaml --hyp data/hyp.scratch.custom.chars.yaml --data data/chars-local.yaml --name yolov7-chars --weights '' --batch-size 16 --epochs 50"
   ]
  },
  {
   "attachments": {},
   "cell_type": "markdown",
   "metadata": {},
   "source": [
    "Run best trained model on testing dataset\n",
    "* `weights` - trained model path\n",
    "* `data` - yaml file with data information (path, classes)\n",
    "* `task` - select which data to test (train|val|test)\n",
    "* `name` - name of the run\n",
    "* `verbose` - to get some extra info"
   ]
  },
  {
   "cell_type": "code",
   "execution_count": null,
   "metadata": {},
   "outputs": [],
   "source": [
    "!python3 test.py --weights runs/train/yolov7-keyboards/weights/best.pt --data data/keyboards-local.yaml --task test --name keyboards-test --verbose\n",
    "# !python3 test.py --weights runs/train/yolov7-chars/weights/best.pt --data data/chars-local.yaml --task test --name chars-test --verbose"
   ]
  }
 ],
 "metadata": {
  "kernelspec": {
   "display_name": "Python 3",
   "language": "python",
   "name": "python3"
  },
  "language_info": {
   "codemirror_mode": {
    "name": "ipython",
    "version": 3
   },
   "file_extension": ".py",
   "mimetype": "text/x-python",
   "name": "python",
   "nbconvert_exporter": "python",
   "pygments_lexer": "ipython3",
   "version": "3.8.10 (tags/v3.8.10:3d8993a, May  3 2021, 11:48:03) [MSC v.1928 64 bit (AMD64)]"
  },
  "vscode": {
   "interpreter": {
    "hash": "34ffe9dac863c41e247a340fb4659b209c814538521746406e6b9845defb7dbb"
   }
  }
 },
 "nbformat": 4,
 "nbformat_minor": 4
}
