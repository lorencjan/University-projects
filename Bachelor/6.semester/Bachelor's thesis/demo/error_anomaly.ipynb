{
 "cells": [
  {
   "cell_type": "markdown",
   "id": "metropolitan-steam",
   "metadata": {},
   "source": [
    "This notebook demonstrates how the anomaly detection in errors work."
   ]
  },
  {
   "cell_type": "code",
   "execution_count": null,
   "id": "aggregate-barcelona",
   "metadata": {},
   "outputs": [],
   "source": [
    "#r \"nuget:YSoft.Rqa.AnomalyDetection.Application\""
   ]
  },
  {
   "cell_type": "code",
   "execution_count": null,
   "id": "organizational-thailand",
   "metadata": {},
   "outputs": [],
   "source": [
    "using YSoft.Rqa.AnomalyDetection.Application.Model;\n",
    "using YSoft.Rqa.AnomalyDetection.Application.Services;\n",
    "using YSoft.Rqa.AnomalyDetection.Data.Model.Csv;"
   ]
  },
  {
   "cell_type": "code",
   "execution_count": null,
   "id": "cleared-equality",
   "metadata": {},
   "outputs": [],
   "source": [
    "var detector = new ErrorAnomalyDetector();\n",
    "var plotter = new Plotter();"
   ]
  },
  {
   "cell_type": "markdown",
   "id": "modified-blade",
   "metadata": {},
   "source": [
    "Firstly, let's generate a reference dataset, to which the new data will be compared.  \n",
    "The numbers don't really matter, let's just use for example 74% requests without an error, 22% with one error and 4% with 2 errors."
   ]
  },
  {
   "cell_type": "code",
   "execution_count": null,
   "id": "powerful-eleven",
   "metadata": {},
   "outputs": [],
   "source": [
    "var refCount = 5000;\n",
    "var refErrors = Enumerable.Repeat(0, (int)(refCount * 0.74))\n",
    "    .Concat(Enumerable.Repeat(1, (int)(refCount * 0.22)))\n",
    "    .Concat(Enumerable.Repeat(2, (int)(refCount * 0.4)))\n",
    "    .ToList();\n",
    "var refRequests = Enumerable.Range(0, refCount).Select(i => new RequestDataPoint { Errors = refErrors[i] });\n",
    "var refDf = new RequestGroup(\"MockService\", \"MockRequestType\", refRequests.ToList()).ValidData;"
   ]
  },
  {
   "cell_type": "markdown",
   "id": "incoming-letters",
   "metadata": {},
   "source": [
    "Now let's demonstrate 3 possible situations.  \n",
    "1) A new error count pops up ... only 0, 1 or 2 errors are allowed but e.g. 3 (or whatever) errors occur.\n",
    "2) Certain error count occurs more frequently ... e.g. 1 error starts occuring in 50% of cases while it should occur in only around 22% of cases.\n",
    "3) The data are alright."
   ]
  },
  {
   "cell_type": "markdown",
   "id": "hollow-lottery",
   "metadata": {},
   "source": [
    "Following dataset breaks rule 1) ... a new error count is added."
   ]
  },
  {
   "cell_type": "code",
   "execution_count": null,
   "id": "agricultural-converter",
   "metadata": {},
   "outputs": [],
   "source": [
    "var count = 1000;\n",
    "var errors1 = Enumerable.Repeat(0, (int)(count * 0.73))\n",
    "    .Concat(Enumerable.Repeat(1, (int)(count * 0.21)))\n",
    "    .Concat(Enumerable.Repeat(2, (int)(count * 0.03)))\n",
    "    .Concat(Enumerable.Repeat(3, (int)(count * 0.03)))\n",
    "    .ToList();\n",
    "var requests1 = Enumerable.Range(0, count).Select(i => new RequestDataPoint { Errors = errors1[i] });\n",
    "var df1 = new RequestGroup(\"MockService\", \"MockRequestType\", requests1.ToList()).ValidData;"
   ]
  },
  {
   "cell_type": "code",
   "execution_count": null,
   "id": "silver-modern",
   "metadata": {},
   "outputs": [],
   "source": [
    "display(plotter.ErrorBar(df1, refDf, \"New error count class emerged in input dataset\"))"
   ]
  },
  {
   "cell_type": "markdown",
   "id": "alive-specification",
   "metadata": {},
   "source": [
    "Check the result."
   ]
  },
  {
   "cell_type": "code",
   "execution_count": null,
   "id": "convenient-pioneer",
   "metadata": {},
   "outputs": [],
   "source": [
    "detector.IsInputAnomalous(df1, refDf)"
   ]
  },
  {
   "cell_type": "markdown",
   "id": "enclosed-straight",
   "metadata": {},
   "source": [
    "On the other hand, if an error count class is missing (there haven't been these errors in the input dataset), it's ok as long as the limits hold."
   ]
  },
  {
   "cell_type": "code",
   "execution_count": null,
   "id": "later-jewel",
   "metadata": {},
   "outputs": [],
   "source": [
    "var errors2 = Enumerable.Repeat(0, (int)(count * 0.76)).Concat(Enumerable.Repeat(1, (int)(count * 0.24))).ToList();\n",
    "var requests2 = Enumerable.Range(0, count).Select(i => new RequestDataPoint { Errors = errors2[i] });\n",
    "var df2 = new RequestGroup(\"MockService\", \"MockRequestType\", requests2.ToList()).ValidData;"
   ]
  },
  {
   "cell_type": "code",
   "execution_count": null,
   "id": "parliamentary-effects",
   "metadata": {},
   "outputs": [],
   "source": [
    "display(plotter.ErrorBar(df2, refDf, \"An error count class didn't occur\"))"
   ]
  },
  {
   "cell_type": "code",
   "execution_count": null,
   "id": "moving-stone",
   "metadata": {},
   "outputs": [],
   "source": [
    "detector.IsInputAnomalous(df2, refDf)"
   ]
  },
  {
   "cell_type": "markdown",
   "id": "brief-sense",
   "metadata": {},
   "source": [
    "Following dataset breaks rule 2) ... error counts vary more than it should.  \n",
    "The IsInputAnomalous method has an additional parameter specifying the tolerance. Default is 10%."
   ]
  },
  {
   "cell_type": "code",
   "execution_count": null,
   "id": "armed-waters",
   "metadata": {},
   "outputs": [],
   "source": [
    "var errors3 = Enumerable.Repeat(0, (int)(count * 0.62))\n",
    "    .Concat(Enumerable.Repeat(1, (int)(count * 0.35)))\n",
    "    .Concat(Enumerable.Repeat(2, (int)(count * 0.03)))\n",
    "    .ToList();\n",
    "var requests3 = Enumerable.Range(0, count).Select(i => new RequestDataPoint { Errors = errors3[i] });\n",
    "var df3 = new RequestGroup(\"MockService\", \"MockRequestType\", requests3.ToList()).ValidData;"
   ]
  },
  {
   "cell_type": "code",
   "execution_count": null,
   "id": "suspended-canadian",
   "metadata": {},
   "outputs": [],
   "source": [
    "display(plotter.ErrorBar(df3, refDf, \"Error rates differ more than they should\"))"
   ]
  },
  {
   "cell_type": "markdown",
   "id": "linear-cartridge",
   "metadata": {},
   "source": [
    "Reference dataset has 74% requests without an error, here the input has only 62% -> 12% difference ... thats more than 10% difference -> anomaly."
   ]
  },
  {
   "cell_type": "code",
   "execution_count": null,
   "id": "preceding-intervention",
   "metadata": {},
   "outputs": [],
   "source": [
    "detector.IsInputAnomalous(df3, refDf)"
   ]
  },
  {
   "cell_type": "markdown",
   "id": "vanilla-jacket",
   "metadata": {},
   "source": [
    "To check the ad 3), let's be more benevolent and increase the tolerance to 15% -> it shouldn't be an anomaly anymore."
   ]
  },
  {
   "cell_type": "code",
   "execution_count": null,
   "id": "patient-accommodation",
   "metadata": {},
   "outputs": [],
   "source": [
    "detector.IsInputAnomalous(df3, refDf, 0.15)"
   ]
  },
  {
   "cell_type": "code",
   "execution_count": null,
   "id": "weird-netherlands",
   "metadata": {},
   "outputs": [],
   "source": []
  }
 ],
 "metadata": {
  "kernelspec": {
   "display_name": ".NET (C#)",
   "language": "C#",
   "name": ".net-csharp"
  },
  "language_info": {
   "file_extension": ".cs",
   "mimetype": "text/x-csharp",
   "name": "C#",
   "pygments_lexer": "csharp",
   "version": "8.0"
  }
 },
 "nbformat": 4,
 "nbformat_minor": 5
}
