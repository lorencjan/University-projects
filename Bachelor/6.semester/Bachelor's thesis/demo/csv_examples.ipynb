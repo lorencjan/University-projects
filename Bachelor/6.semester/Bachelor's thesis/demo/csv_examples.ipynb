{
 "cells": [
  {
   "cell_type": "markdown",
   "id": "humanitarian-semester",
   "metadata": {},
   "source": [
    "This notebook demonstrates just shows the example data from csv_examples directory."
   ]
  },
  {
   "cell_type": "code",
   "execution_count": null,
   "id": "blocked-farmer",
   "metadata": {},
   "outputs": [],
   "source": [
    "#r \"nuget:YSoft.Rqa.AnomalyDetection.Application\""
   ]
  },
  {
   "cell_type": "code",
   "execution_count": null,
   "id": "editorial-receipt",
   "metadata": {},
   "outputs": [],
   "source": [
    "using YSoft.Rqa.AnomalyDetection.Application.Model;\n",
    "using YSoft.Rqa.AnomalyDetection.Application.Services;\n",
    "using YSoft.Rqa.AnomalyDetection.Data.Services;\n",
    "using System.IO;"
   ]
  },
  {
   "cell_type": "code",
   "execution_count": null,
   "id": "ruled-recording",
   "metadata": {},
   "outputs": [],
   "source": [
    "var csvHandler = new CsvHandler();\n",
    "var detector = new DurationAnomalyDetector(new Clusterer());\n",
    "var plotter = new Plotter();\n",
    "var path = Path.Combine(Directory.GetCurrentDirectory(), \"csv_examples\");\n",
    "foreach(var file in Directory.EnumerateFiles(path)){\n",
    "    var requests = csvHandler.ReadCsv(file);\n",
    "    var rg = new RequestGroup(null, null, requests);\n",
    "    detector.FindOutliers(rg);\n",
    "    detector.FindAnomalies(rg);\n",
    "    display(plotter.DetectionHistogram(rg, title: file.Split(Path.DirectorySeparatorChar).Last()));\n",
    "}"
   ]
  }
 ],
 "metadata": {
  "kernelspec": {
   "display_name": ".NET (C#)",
   "language": "C#",
   "name": ".net-csharp"
  },
  "language_info": {
   "file_extension": ".cs",
   "mimetype": "text/x-csharp",
   "name": "C#",
   "pygments_lexer": "csharp",
   "version": "8.0"
  }
 },
 "nbformat": 4,
 "nbformat_minor": 5
}
