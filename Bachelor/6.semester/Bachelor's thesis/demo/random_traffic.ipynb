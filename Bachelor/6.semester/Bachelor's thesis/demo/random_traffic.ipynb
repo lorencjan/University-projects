{
 "cells": [
  {
   "cell_type": "markdown",
   "id": "careful-arcade",
   "metadata": {},
   "source": [
    "This notebook demonstrates the ability to detect anomalies in a completely random traffic.  \n",
    "No reference dataset is used here, it simply finds clusters among outliers which are big enough.  \n",
    "How does it work?  \n",
    " * Random number between 100-5000 of valid data are generated randomly from either normal, triangular or F distribution.  \n",
    "   (from these distributions are generally the RQA service request durations)\n",
    " * To that are added random outliers of size 0.5-3% of valid data.\n",
    " * Random number (0-2) of anomalies is generated with following probabilities ... 10% - no anomaly, 80% - one anomaly, 10% - 2 anomalies.\n",
    " * Anomalies are generated again from random distributions in a way the anomaly is not close enough to the valid data to be considered valid as well.  \n",
    "   That might still occur, the probability is very low though.  \n",
    "   \n",
    "Anomaly detection is than applied on this randomly generated requests."
   ]
  },
  {
   "cell_type": "code",
   "execution_count": null,
   "id": "disturbed-positive",
   "metadata": {},
   "outputs": [],
   "source": [
    "#r \"nuget:YSoft.Rqa.AnomalyDetection.Application\""
   ]
  },
  {
   "cell_type": "code",
   "execution_count": null,
   "id": "human-nowhere",
   "metadata": {},
   "outputs": [],
   "source": [
    "using YSoft.Rqa.AnomalyDetection.Application;\n",
    "using YSoft.Rqa.AnomalyDetection.Application.Model;\n",
    "using YSoft.Rqa.AnomalyDetection.Application.Services;"
   ]
  },
  {
   "cell_type": "code",
   "execution_count": null,
   "id": "color-wrist",
   "metadata": {},
   "outputs": [],
   "source": [
    "var generator = new TrafficGenerator();\n",
    "var detector = new DurationAnomalyDetector(new Clusterer());\n",
    "var plotter = new Plotter();"
   ]
  },
  {
   "cell_type": "code",
   "execution_count": null,
   "id": "appropriate-fleet",
   "metadata": {},
   "outputs": [],
   "source": [
    "var requests = generator.GenerateRequests();\n",
    "var rg = new RequestGroup(\"ServiceName\", \"RequestType\", requests);"
   ]
  },
  {
   "cell_type": "markdown",
   "id": "perceived-health",
   "metadata": {},
   "source": [
    "This is how the generated data look like."
   ]
  },
  {
   "cell_type": "code",
   "execution_count": null,
   "id": "falling-family",
   "metadata": {},
   "outputs": [],
   "source": [
    "display(plotter.Scatter(rg.ValidData));\n",
    "display(plotter.Histogram(rg.ValidData));"
   ]
  },
  {
   "cell_type": "markdown",
   "id": "creative-buffer",
   "metadata": {},
   "source": [
    "Perform the anomaly detection."
   ]
  },
  {
   "cell_type": "code",
   "execution_count": null,
   "id": "arctic-dance",
   "metadata": {},
   "outputs": [],
   "source": [
    "detector.FindOutliers(rg);\n",
    "detector.FindAnomalies(rg);"
   ]
  },
  {
   "cell_type": "markdown",
   "id": "sought-position",
   "metadata": {},
   "source": [
    "Show the result of the detection."
   ]
  },
  {
   "cell_type": "code",
   "execution_count": null,
   "id": "sitting-highland",
   "metadata": {},
   "outputs": [],
   "source": [
    "display(plotter.DetectionScatter(rg));\n",
    "display(plotter.DetectionHistogram(rg));"
   ]
  },
  {
   "cell_type": "markdown",
   "id": "champion-psychiatry",
   "metadata": {},
   "source": [
    "Detection in numbers:"
   ]
  },
  {
   "cell_type": "code",
   "execution_count": null,
   "id": "natural-leeds",
   "metadata": {},
   "outputs": [],
   "source": [
    "Console.WriteLine($\"Valids: {rg.ValidData.Length()}\");\n",
    "Console.WriteLine($\"Outliers: {rg.Outliers.Length()}\");\n",
    "Console.WriteLine($\"Anomalies: {rg.Anomalies.Length()}\");\n",
    "Console.WriteLine($\"Total: {rg.TotalCount}\");"
   ]
  }
 ],
 "metadata": {
  "kernelspec": {
   "display_name": ".NET (C#)",
   "language": "C#",
   "name": ".net-csharp"
  },
  "language_info": {
   "file_extension": ".cs",
   "mimetype": "text/x-csharp",
   "name": "C#",
   "pygments_lexer": "csharp",
   "version": "8.0"
  }
 },
 "nbformat": 4,
 "nbformat_minor": 5
}
