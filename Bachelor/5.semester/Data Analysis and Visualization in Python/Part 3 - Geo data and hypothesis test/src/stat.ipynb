{
 "metadata": {
  "language_info": {
   "codemirror_mode": {
    "name": "ipython",
    "version": 3
   },
   "file_extension": ".py",
   "mimetype": "text/x-python",
   "name": "python",
   "nbconvert_exporter": "python",
   "pygments_lexer": "ipython3",
   "version": "3.8.6-final"
  },
  "orig_nbformat": 2,
  "kernelspec": {
   "name": "python38564bit0234c38b2136403195749868e59910fb",
   "display_name": "Python 3.8.5 64-bit",
   "language": "python"
  }
 },
 "nbformat": 4,
 "nbformat_minor": 2,
 "cells": [
  {
   "source": [
    "# Test hypotézy\n",
    "\n",
    "S 95% jistotou ověřte hypotézu:  \n",
    "Pokud viník nehody byl pod silným vlivem alkoholu,  \n",
    "došlo častěji k těžkým zdravotním následkům.\n",
    "\n",
    "Hypotézy nelze obecně potvrdit, jen s určitou jistotou vyvrátit, proto  \n",
    "se pokusíme vyvrátit hypotézu, že naopak silný vliv alkoholu závažnost  \n",
    "zranění neovlivňuje. Budeme tedy testovat, zda data následků nehod pro  \n",
    "silný vliv alkoholu patří do stejného rozložení jako ta pro slabý vliv  \n",
    "alkoholu / bez alkoholu."
   ],
   "cell_type": "markdown",
   "metadata": {}
  },
  {
   "source": [
    "import pandas as pd\n",
    "from scipy.stats import chi2_contingency\r\n"
   ],
   "cell_type": "code",
   "metadata": {},
   "execution_count": null,
   "outputs": []
  },
  {
   "source": [
    "Nejdříve si připravíme dataset. Potřebujeme rozdělit vlivy  \n",
    "alkoholu a vážné následky na silný/slabý a vážné/lehké."
   ],
   "cell_type": "markdown",
   "metadata": {}
  },
  {
   "source": [
    "Načteme dataframe"
   ],
   "cell_type": "markdown",
   "metadata": {}
  },
  {
   "source": [
    "df = pd.read_pickle(\"accidents.pkl.gz\")\n",
    "df.head()"
   ],
   "cell_type": "code",
   "metadata": {},
   "execution_count": null,
   "outputs": []
  },
  {
   "source": [
    "Nechceme nehody pod vlivem drog"
   ],
   "cell_type": "markdown",
   "metadata": {}
  },
  {
   "cell_type": "code",
   "execution_count": null,
   "metadata": {},
   "outputs": [],
   "source": [
    "print(df.shape)\n",
    "df = df.loc[(df[\"p11\"] != 5) & (df[\"p11\"] != 6)]\n",
    "print(df.shape)"
   ]
  },
  {
   "source": [
    "Přidáme pole určující slabý/silný vliv a lehké/těžké následky"
   ],
   "cell_type": "markdown",
   "metadata": {}
  },
  {
   "cell_type": "code",
   "execution_count": null,
   "metadata": {},
   "outputs": [],
   "source": [
    "df[\"severe consequences\"] = df[\"p13a\"] + df[\"p13b\"] > 0\n",
    "df[\"too much alcohol\"] = df[\"p11\"] >= 7\n",
    "df.head()"
   ]
  },
  {
   "source": [
    "Vytvoříme si kontingenční tabulku, nad kterou se bude provádět test"
   ],
   "cell_type": "markdown",
   "metadata": {}
  },
  {
   "cell_type": "code",
   "execution_count": null,
   "metadata": {},
   "outputs": [],
   "source": [
    "ct = pd.crosstab(df[\"severe consequences\"], df[\"too much alcohol\"])\n",
    "ct"
   ]
  },
  {
   "source": [
    "Nyní máme připravená data. Stačí už jen provést test."
   ],
   "cell_type": "markdown",
   "metadata": {}
  },
  {
   "cell_type": "code",
   "execution_count": null,
   "metadata": {},
   "outputs": [],
   "source": [
    "chi2_contingency(ct)"
   ]
  },
  {
   "source": [
    "P-hodnota 3.5960593458701547e-122 je extrémně blízká nule, tedy menší  \n",
    "než 0.05. Z toho vyplývá, že je téměř nulová pravděpodobnost, že by  \n",
    "data pocházela ze stejného rozložení. Proto zamítáme hypotézu, že by  \n",
    "silný vliv alkoholu neměl dopad na vážnost následků nehody. Tím se s 95%   \n",
    "jistotou dokazuje, že silný vliv alkoholu má dopad na vážnost následků nehody."
   ],
   "cell_type": "markdown",
   "metadata": {}
  },
  {
   "source": [
    "Hypotéza ještě zmiňuje slovíčko \"častěji\". Test dobré shody jenom prokáže,  \n",
    "jestli existuje korelace nebo nikoliv. Ne jestli více/méně, na kterou  \n",
    "stranu. To lze snadno ověřit ze statistiky."
   ],
   "cell_type": "markdown",
   "metadata": {}
  },
  {
   "cell_type": "code",
   "execution_count": null,
   "metadata": {},
   "outputs": [],
   "source": [
    "high_alcohol_and_severe = df[df[\"too much alcohol\"] & df[\"severe consequences\"]].shape[0]\n",
    "low_alcohol_and_severe = df[(df[\"too much alcohol\"] == False) & df[\"severe consequences\"]].shape[0]\n",
    "total_high_alcohol = df[df[\"too much alcohol\"]].shape[0]\n",
    "total_low_alcohol = df[df[\"too much alcohol\"] == False].shape[0]\n",
    "print(\"Pravděpodobnost vážných následků při\")\n",
    "print(\"- silném vlivu: {:.2f}%\".format(100 * high_alcohol_and_severe / total_high_alcohol))\n",
    "print(\"- slabém/žádném vlivu: {:.2f}%\".format(100 * low_alcohol_and_severe / total_low_alcohol))"
   ]
  },
  {
   "source": [
    "Jak je vidět, při silném vlivu alkoholu dochází více než 2x častěji k vážným  \n",
    "následkům. Z toho plyne, že jsme na správné straně hypotézy, tedy že se to  \n",
    "děje častěji. Tato statistika sama za sebe naznačuje pravdivost hypotézy i  \n",
    "bez testu a jeho výsledek potvrzuje. Proto lze prohlásit, že s 95% jistotou  \n",
    "platí, že pokud viník nehody byl pod silným vlivem alkoholu, došlo častěji  \n",
    "k těžkým zdravotním následkům."
   ],
   "cell_type": "markdown",
   "metadata": {}
  }
 ]
}